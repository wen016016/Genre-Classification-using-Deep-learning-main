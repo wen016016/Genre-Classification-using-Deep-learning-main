{
 "cells": [
  {
   "cell_type": "markdown",
   "metadata": {},
   "source": [
    "## 音樂推薦"
   ]
  },
  {
   "cell_type": "code",
   "execution_count": null,
   "metadata": {},
   "outputs": [],
   "source": [
    "import os\n",
    "from flask import Flask, render_template, request, redirect, url_for, flash\n",
    "import librosa\n",
    "from keras.models import load_model\n",
    "import keras\n",
    "import numpy as np\n",
    "from sklearn.metrics import classification_report\n",
    "import librosa.display\n",
    "import requests\n",
    "import cv2"
   ]
  },
  {
   "cell_type": "code",
   "execution_count": null,
   "metadata": {},
   "outputs": [],
   "source": [
    "# 配置Flask應用程序\n",
    "app = Flask(__name__)\n",
    "UPLOAD_FOLDER = 'uploads/'\n",
    "ALLOWED_EXTENSIONS = {'mp3', 'wav'}\n",
    "app.config['UPLOAD_FOLDER'] = UPLOAD_FOLDER"
   ]
  },
  {
   "cell_type": "code",
   "execution_count": null,
   "metadata": {},
   "outputs": [],
   "source": [
    "# 檢查文件是否是允许的音樂格式\n",
    "def allowed_file(filename):\n",
    "    return '.' in filename and filename.rsplit('.', 1)[1].lower() in ALLOWED_EXTENSIONS"
   ]
  },
  {
   "cell_type": "code",
   "execution_count": null,
   "metadata": {},
   "outputs": [],
   "source": [
    "# 主要的音樂上傳和處理路由\n",
    "@app.route('/', methods=['GET', 'POST'])\n",
    "def upload_file():\n",
    "    if request.method == 'POST':\n",
    "        if 'file' not in request.files:\n",
    "            flash('No file part')\n",
    "            return redirect(request.url)\n",
    "        file = request.files['file']\n",
    "        if file.filename == '':\n",
    "            flash('No selected file')\n",
    "            return redirect(request.url)\n",
    "        if file and allowed_file(file.filename):\n",
    "            filepath = os.path.join(app.config['UPLOAD_FOLDER'], file.filename)\n",
    "            file.save(filepath)\n",
    "\n",
    "            predicted_genre = predict_genre(filepath)\n",
    "            recommended_links = get_youtube_links(predicted_genre)\n",
    "            \n",
    "            return render_template('result.html', genre=predicted_genre, links=recommended_links)\n",
    "    return render_template('upload.html')"
   ]
  },
  {
   "cell_type": "code",
   "execution_count": null,
   "metadata": {},
   "outputs": [],
   "source": [
    "# 2. 加载預先訓練的模型\n",
    "import pickle\n",
    "\n",
    "with open('history_500_epoch_tr_GRU.pkl', 'rb') as file:\n",
    "    model = pickle.load(file)\n",
    "\n",
    "def predict_genre(filepath):\n",
    "    x, sr = librosa.load(filepath)\n",
    "    X = librosa.stft(x)\n",
    "    Xdb = librosa.amplitude_to_db(abs(X))\n",
    "\n",
    "    # 3. 將音頻轉換為模型所需的輸入格式\n",
    "    # Assuming that you have a function 'convert_to_model_input' \n",
    "    # that converts the Xdb to a shape that your model expects\n",
    "    input_data = convert_to_model_input(Xdb)\n",
    "\n",
    "    # 4. 使用模型進行預測\n",
    "    predictions = model.predict(input_data)\n",
    "    genre = decode_predictions(predictions)  # assuming you have a function to decode the predictions\n",
    "\n",
    "    return genre\n",
    "\n",
    "def convert_to_model_input(Xdb):\n",
    "    # 这里是一个示例，您需要根据实际的模型输入要求进行更改\n",
    "    return np.expand_dims(Xdb, axis=0)  # 假设模型需要一个四维输入\n",
    "\n",
    "# def convert_to_model_input(x, sr):\n",
    "    # 根据您的模型输入需求修改此函数\n",
    "#    mfccs = librosa.feature.mfcc(x, sr=sr)\n",
    "    # ... [其他可能的特征提取和预处理]\n",
    "    \n",
    "    # 适应模型的输入形状\n",
    "#    input_data = np.expand_dims(mfccs, axis=0)\n",
    "    \n",
    "#    return input_data\n",
    "\n",
    "def decode_predictions(predictions):\n",
    "    genres = ['blues', 'classical', 'country', 'disco', 'hiphop', 'jazz', 'metal', 'pop', 'reggae', 'rock']  # 音乐类别列表\n",
    "    predicted_index = np.argmax(predictions)\n",
    "    return genres[predicted_index]\n",
    "\n"
   ]
  },
  {
   "cell_type": "code",
   "execution_count": null,
   "metadata": {},
   "outputs": [],
   "source": [
    "# 根據音樂類型返回推薦的YouTube連結\n",
    "def get_youtube_links(genre, max_results=5):\n",
    "    API_KEY = 'YOUR_YOUTUBE_API_KEY'  # You need to get this from the Google Cloud Console.\n",
    "    YOUTUBE_SEARCH_URL = 'https://www.googleapis.com/youtube/v3/search'\n",
    "\n",
    "    params = {\n",
    "        'part': 'snippet',\n",
    "        'q': genre + ' music',\n",
    "        'type': 'video',\n",
    "        'key': API_KEY,\n",
    "        'maxResults': max_results\n",
    "    }\n",
    "\n",
    "    response = requests.get(YOUTUBE_SEARCH_URL, params=params)\n",
    "    data = response.json()\n",
    "    video_links = ['https://www.youtube.com/watch?v=' + item['id']['videoId'] for item in data['items']]\n",
    "    \n",
    "    return video_links\n"
   ]
  }
 ],
 "metadata": {
  "language_info": {
   "name": "python"
  }
 },
 "nbformat": 4,
 "nbformat_minor": 2
}
